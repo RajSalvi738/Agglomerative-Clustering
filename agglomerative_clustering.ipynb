{
 "cells": [
  {
   "cell_type": "markdown",
   "metadata": {},
   "source": [
    "# Agglomerative Clustering"
   ]
  },
  {
   "cell_type": "code",
   "execution_count": 215,
   "metadata": {},
   "outputs": [],
   "source": [
    "import math"
   ]
  },
  {
   "cell_type": "code",
   "execution_count": 216,
   "metadata": {},
   "outputs": [],
   "source": [
    "X_input = [2, 3, 1, 3, 1.5]\n",
    "y_input = [2, 2, 1, 1, 0.5]"
   ]
  },
  {
   "cell_type": "code",
   "execution_count": 217,
   "metadata": {},
   "outputs": [],
   "source": [
    "def cal_euc_distance(x1, y1, x2, y2):\n",
    "    distance = math.sqrt(math.pow((x1- x2), 2) + math.pow((y1 - y2), 2))\n",
    "    return distance"
   ]
  },
  {
   "cell_type": "code",
   "execution_count": 218,
   "metadata": {},
   "outputs": [],
   "source": [
    "#to find minimum value in the matrix which have not included the diagonal values\n",
    "def find_min(matrix):\n",
    "    min = 1000\n",
    "    for i in range(len(matrix)):\n",
    "        for j in range((len(matrix))):\n",
    "            if i == j:\n",
    "                continue\n",
    "            else:\n",
    "                if matrix[i][j] < min:\n",
    "                    min = matrix[i][j]\n",
    "    \n",
    "    return min"
   ]
  },
  {
   "cell_type": "code",
   "execution_count": 225,
   "metadata": {},
   "outputs": [],
   "source": [
    "#using single link to combine or cluster the to rows(points)\n",
    "def single_link(rows):\n",
    "    combined_row = []\n",
    "    for i in range(len(rows)-1):\n",
    "        for j in range(len(rows[i])):\n",
    "            if rows[i][j] <= rows[i+1][j]:\n",
    "                combined_row.append(rows[i][j])\n",
    "            else:\n",
    "                combined_row.append(rows[i+1][j])\n",
    "                \n",
    "    return combined_row"
   ]
  },
  {
   "cell_type": "code",
   "execution_count": 226,
   "metadata": {},
   "outputs": [],
   "source": [
    "#function to combine rows(points) to make clusters\n",
    "def combine_col(i, j, matrix):\n",
    "    combined_matrix = []\n",
    "    row_min_val = []\n",
    "    for x in range(len(matrix)):\n",
    "        if x == i or x == j:\n",
    "            row_min_val.append(matrix[x])\n",
    "        else:\n",
    "            combined_matrix.append(matrix[x])\n",
    "    \n",
    "    if i < j:\n",
    "        low_index = i\n",
    "    else:\n",
    "        low_index = j\n",
    "    \n",
    "    combined_matrix.insert(low_index, single_link(row_min_val))\n",
    "        \n",
    "    for row in combined_matrix:\n",
    "        row.pop(j)\n",
    "        \n",
    "    for x in range(len(combined_matrix)):\n",
    "        for y in range(len(combined_matrix[x])):\n",
    "            if x == y:\n",
    "                pass\n",
    "            else:\n",
    "                if combined_matrix[x][y] != combined_matrix[y][x] and y == low_index:\n",
    "                    combined_matrix[x][y] = combined_matrix[y][x]\n",
    "            \n",
    "    return combined_matrix"
   ]
  },
  {
   "cell_type": "code",
   "execution_count": 236,
   "metadata": {},
   "outputs": [],
   "source": [
    "distance_matrix = []"
   ]
  },
  {
   "cell_type": "code",
   "execution_count": 237,
   "metadata": {},
   "outputs": [
    {
     "name": "stdout",
     "output_type": "stream",
     "text": [
      "[0.0, 1.0, 1.4142135623730951, 1.4142135623730951, 1.5811388300841898]\n",
      "[1.0, 0.0, 2.23606797749979, 1.0, 2.1213203435596424]\n",
      "[1.4142135623730951, 2.23606797749979, 0.0, 2.0, 0.7071067811865476]\n",
      "[1.4142135623730951, 1.0, 2.0, 0.0, 1.5811388300841898]\n",
      "[1.5811388300841898, 2.1213203435596424, 0.7071067811865476, 1.5811388300841898, 0.0]\n"
     ]
    }
   ],
   "source": [
    "for x in range(len(X_input)):\n",
    "    distance = []\n",
    "    for y in range(len(y_input)):\n",
    "        euc_distance = cal_euc_distance(X_input[x], y_input[x], X_input[y], y_input[y])\n",
    "        distance.append(euc_distance)\n",
    "    distance_matrix.append(distance)\n",
    "    \n",
    "for distances in distance_matrix:\n",
    "    print(distances)"
   ]
  },
  {
   "cell_type": "code",
   "execution_count": 238,
   "metadata": {},
   "outputs": [
    {
     "name": "stdout",
     "output_type": "stream",
     "text": [
      "\n",
      "Minimum Value: 0.7071067811865476\n",
      "Combining 2 and 4\n",
      "[0.0, 1.0, 1.4142135623730951, 1.4142135623730951]\n",
      "[1.0, 0.0, 2.1213203435596424, 1.0]\n",
      "[1.4142135623730951, 2.1213203435596424, 0.0, 1.5811388300841898]\n",
      "[1.4142135623730951, 1.0, 1.5811388300841898, 0.0]\n",
      "\n",
      "Minimum Value: 1.0\n",
      "Combining 0 and 1\n",
      "[0.0, 1.4142135623730951, 1.0]\n",
      "[1.4142135623730951, 0.0, 1.5811388300841898]\n",
      "[1.0, 1.5811388300841898, 0.0]\n",
      "\n",
      "Minimum Value: 1.0\n",
      "Combining 0 and 2\n",
      "[0.0, 1.4142135623730951]\n",
      "[1.4142135623730951, 0.0]\n"
     ]
    }
   ],
   "source": [
    "'''to have list of clusters in the end for visualization as dendogram : \n",
    "create a dictionary in which you store the index_i and index_j as value and key as index_i'''\n",
    "run = True\n",
    "\n",
    "while run:\n",
    "    if len(distance_matrix) == 2:\n",
    "        run = False\n",
    "        break\n",
    "\n",
    "    min_value = find_min(distance_matrix)\n",
    "\n",
    "    for distance in distance_matrix:\n",
    "        if min_value in distance:\n",
    "            index_j = distance.index(min_value)\n",
    "            index_i = distance_matrix.index(distance)\n",
    "            break\n",
    "    print(f\"\\nMinimum Value: {min_value}\")\n",
    "    print(f\"Combining {index_i} and {index_j}\")\n",
    "    \n",
    "    distance_matrix = combine_col(index_i, index_j, distance_matrix)\n",
    "    for matrix in distance_matrix:\n",
    "        print(matrix)"
   ]
  }
 ],
 "metadata": {
  "kernelspec": {
   "display_name": "Python 3",
   "language": "python",
   "name": "python3"
  },
  "language_info": {
   "codemirror_mode": {
    "name": "ipython",
    "version": 3
   },
   "file_extension": ".py",
   "mimetype": "text/x-python",
   "name": "python",
   "nbconvert_exporter": "python",
   "pygments_lexer": "ipython3",
   "version": "3.7.4"
  }
 },
 "nbformat": 4,
 "nbformat_minor": 2
}
